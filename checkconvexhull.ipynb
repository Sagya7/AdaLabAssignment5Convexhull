{
 "cells": [
  {
   "cell_type": "code",
   "execution_count": 16,
   "id": "5fd2c561",
   "metadata": {},
   "outputs": [],
   "source": [
    "# import module\n",
    "import numpy as np\n",
    "import matplotlib.pyplot as plt\n",
    "\n",
    "# x and y are all the points\n",
    "x =[0,1,2,3,4,3,1,0]\n",
    "y =[0,1,2,3,4,1,2,3]\n",
    "\n",
    "# x1 y1 are convex polygon's points\n",
    "#insert output of cpp file here\n",
    "# Repeat first point as last point to complete polygon shape.\n",
    "x1 = [0,4,3,0,0]\n",
    "y1 = [3,4,1,0,3]\n",
    "\n",
    "# set the title of a plot\n",
    "plt.title(\"Connected Scatterplot points with lines\")\n",
    "\n",
    "# plot scatter plot with x and y data\n",
    "plt.scatter(x, y)\n",
    "\n",
    "# plot with x and y data\n",
    "plt.plot(x1, y1)\n",
    "plt.show()\n"
   ]
  },
  {
   "cell_type": "code",
   "execution_count": 3,
   "id": "847bccce",
   "metadata": {},
   "outputs": [],
   "source": []
  },
  {
   "cell_type": "code",
   "execution_count": null,
   "id": "d99b2c1e",
   "metadata": {},
   "outputs": [],
   "source": []
  }
 ],
 "metadata": {
  "kernelspec": {
   "display_name": "Python 3.9 (XPython)",
   "language": "python",
   "name": "xpython"
  },
  "language_info": {
   "file_extension": ".py",
   "mimetype": "text/x-python",
   "name": "python",
   "version": "3.9.9"
  }
 },
 "nbformat": 4,
 "nbformat_minor": 5
}
